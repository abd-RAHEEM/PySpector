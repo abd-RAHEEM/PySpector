{
  "nbformat": 4,
  "nbformat_minor": 0,
  "metadata": {
    "colab": {
      "provenance": [],
      "authorship_tag": "ABX9TyNxLnaJtjz6d9QsADT6LT8S",
      "include_colab_link": true
    },
    "kernelspec": {
      "name": "python3",
      "display_name": "Python 3"
    },
    "language_info": {
      "name": "python"
    }
  },
  "cells": [
    {
      "cell_type": "markdown",
      "metadata": {
        "id": "view-in-github",
        "colab_type": "text"
      },
      "source": [
        "<a href=\"https://colab.research.google.com/github/abd-RAHEEM/PySpector/blob/main/Pyspector.ipynb\" target=\"_parent\"><img src=\"https://colab.research.google.com/assets/colab-badge.svg\" alt=\"Open In Colab\"/></a>"
      ]
    },
    {
      "cell_type": "code",
      "execution_count": 1,
      "metadata": {
        "colab": {
          "base_uri": "https://localhost:8080/"
        },
        "id": "s37jLaoNou33",
        "outputId": "e32d36f4-af5a-4bbd-8883-1fa3e2e92931"
      },
      "outputs": [
        {
          "output_type": "stream",
          "name": "stdout",
          "text": [
            "Libraries imported successfully!\n"
          ]
        }
      ],
      "source": [
        "# For data manipulation and analysis\n",
        "import pandas as pd\n",
        "import numpy as np\n",
        "\n",
        "# For data visualization\n",
        "import matplotlib.pyplot as plt\n",
        "import seaborn as sns\n",
        "\n",
        "# For machine learning\n",
        "from sklearn.model_selection import train_test_split\n",
        "from sklearn.preprocessing import StandardScaler\n",
        "from sklearn.ensemble import RandomForestClassifier\n",
        "from sklearn.metrics import classification_report, confusion_matrix, f1_score\n",
        "\n",
        "# To handle .arff files (if you download the original file)\n",
        "# You might need to install this: pip install liac-arff\n",
        "# import arff\n",
        "\n",
        "# Set some visualization styles\n",
        "sns.set(style=\"whitegrid\")\n",
        "\n",
        "print(\"Libraries imported successfully!\")"
      ]
    },
    {
      "cell_type": "code",
      "source": [
        "import kagglehub\n",
        "\n",
        "# Download latest version\n",
        "path = kagglehub.dataset_download(\"radowanulhaque/software-defect\")\n",
        "\n",
        "print(\"Path to dataset files:\", path)"
      ],
      "metadata": {
        "colab": {
          "base_uri": "https://localhost:8080/"
        },
        "id": "iXp-0aGtrZBT",
        "outputId": "0e534feb-5e90-4fa3-bfba-97e000f06f26"
      },
      "execution_count": 5,
      "outputs": [
        {
          "output_type": "stream",
          "name": "stdout",
          "text": [
            "Warning: Looks like you're using an outdated `kagglehub` version (installed: 0.3.12), please consider upgrading to the latest version (0.3.13).\n",
            "Downloading from https://www.kaggle.com/api/v1/datasets/download/radowanulhaque/software-defect?dataset_version_number=1...\n"
          ]
        },
        {
          "output_type": "stream",
          "name": "stderr",
          "text": [
            "100%|██████████| 308k/308k [00:00<00:00, 54.3MB/s]"
          ]
        },
        {
          "output_type": "stream",
          "name": "stdout",
          "text": [
            "Extracting files...\n",
            "Path to dataset files: /root/.cache/kagglehub/datasets/radowanulhaque/software-defect/versions/1\n"
          ]
        },
        {
          "output_type": "stream",
          "name": "stderr",
          "text": [
            "\n"
          ]
        }
      ]
    },
    {
      "cell_type": "code",
      "source": [
        "import pandas as pd\n",
        "import os # A standard Python library for interacting with the operating system, like handling file paths\n",
        "\n",
        "# This code assumes you have already run the kagglehub download cell\n",
        "# and the 'path' variable contains the path to the downloaded folder.\n",
        "\n",
        "# We will now construct the full path to the specific file we want: 'cm1.csv'\n",
        "file_path = os.path.join(path, 'cm1.csv')\n",
        "\n",
        "print(f\"Constructed full path to the file: {file_path}\")\n",
        "\n",
        "# Now, load the dataset using this complete file path\n",
        "try:\n",
        "    data = pd.read_csv(file_path)\n",
        "    print(\"\\nDataset 'cm1.csv' loaded successfully using the kagglehub path!\")\n",
        "    print(\"\\nHere are the first 5 rows:\")\n",
        "    print(data.head())\n",
        "except FileNotFoundError:\n",
        "    print(f\"\\nError: Could not find 'cm1.csv' at the path.\")\n",
        "    print(\"Let's check the actual contents of the downloaded folder:\")\n",
        "    # This will list all files in the directory to help debug\n",
        "    print(os.listdir(path))"
      ],
      "metadata": {
        "colab": {
          "base_uri": "https://localhost:8080/"
        },
        "id": "_tCfBnRIpOsN",
        "outputId": "82b9ce61-7310-4f9d-a8f6-407ac2940f73"
      },
      "execution_count": 6,
      "outputs": [
        {
          "output_type": "stream",
          "name": "stdout",
          "text": [
            "Constructed full path to the file: /root/.cache/kagglehub/datasets/radowanulhaque/software-defect/versions/1/cm1.csv\n",
            "\n",
            "Dataset 'cm1.csv' loaded successfully using the kagglehub path!\n",
            "\n",
            "Here are the first 5 rows:\n",
            "   id   loc  v(g)  ev(g)  iv(g)     n       v     l      d      i  ...  \\\n",
            "0   1   1.1   1.4    1.4    1.4   1.3    1.30  1.30   1.30   1.30  ...   \n",
            "1   2   1.0   1.0    1.0    1.0   1.0    1.00  1.00   1.00   1.00  ...   \n",
            "2   3  24.0   5.0    1.0    3.0  63.0  309.13  0.11   9.50  32.54  ...   \n",
            "3   4  20.0   4.0    4.0    2.0  47.0  215.49  0.06  16.00  13.47  ...   \n",
            "4   5  24.0   6.0    6.0    2.0  72.0  346.13  0.06  17.33  19.97  ...   \n",
            "\n",
            "   lOCode  lOComment  lOBlank  locCodeAndComment  uniq_Op  uniq_Opnd  \\\n",
            "0       2          2        2                  2      1.2        1.2   \n",
            "1       1          1        1                  1      1.0        1.0   \n",
            "2       1          0        6                  0     15.0       15.0   \n",
            "3       0          0        3                  0     16.0        8.0   \n",
            "4       0          0        3                  0     16.0       12.0   \n",
            "\n",
            "   total_Op  total_Opnd  branchCount  defects  \n",
            "0       1.2         1.2          1.4    False  \n",
            "1       1.0         1.0          1.0     True  \n",
            "2      44.0        19.0          9.0    False  \n",
            "3      31.0        16.0          7.0    False  \n",
            "4      46.0        26.0         11.0    False  \n",
            "\n",
            "[5 rows x 23 columns]\n"
          ]
        }
      ]
    },
    {
      "cell_type": "code",
      "source": [
        "# Display the first 5 rows of the dataset\n",
        "print(\"First 5 rows of the dataset:\")\n",
        "print(data.head())\n",
        "\n",
        "# Get a summary of the dataset, including data types and non-null values\n",
        "print(\"\\nDataset Information:\")\n",
        "data.info()\n",
        "\n",
        "# Get descriptive statistics for all numerical columns\n",
        "print(\"\\nDescriptive Statistics:\")\n",
        "print(data.describe())\n",
        "\n",
        "# The target variable is 'defects'. Let's rename it to something clearer and convert boolean to integer (0 or 1)\n",
        "if 'defects' in data.columns:\n",
        "    data.rename(columns={'defects': 'is_vulnerable'}, inplace=True)\n",
        "    # Convert boolean (True/False) to integer (1/0)\n",
        "    data['is_vulnerable'] = data['is_vulnerable'].astype(int)\n",
        "    print(\"\\n'defects' column renamed to 'is_vulnerable' and converted to integer.\")\n",
        "else:\n",
        "    print(\"\\nWarning: 'defects' column not found. Please check the column name for the target variable.\")\n",
        "\n",
        "# **CRUCIAL STEP**: Check the distribution of our target variable\n",
        "print(\"\\nDistribution of Vulnerable vs. Non-Vulnerable Modules:\")\n",
        "vulnerability_counts = data['is_vulnerable'].value_counts()\n",
        "print(vulnerability_counts)\n",
        "\n",
        "# Visualize the distribution\n",
        "plt.figure(figsize=(8, 6))\n",
        "sns.countplot(x='is_vulnerable', data=data)\n",
        "plt.title('Distribution of Vulnerable (1) vs. Non-Vulnerable (0) Modules')\n",
        "plt.ylabel('Number of Modules')\n",
        "plt.xlabel('Module Type')\n",
        "plt.show()\n",
        "\n",
        "print(\"\\nEDA Conclusion: The dataset is highly imbalanced. Non-vulnerable modules vastly outnumber vulnerable ones.\")\n",
        "print(\"This is a critical insight that will influence how we build and evaluate our model.\")"
      ],
      "metadata": {
        "colab": {
          "base_uri": "https://localhost:8080/",
          "height": 1000
        },
        "id": "43ZtE-Jqr_Ew",
        "outputId": "4a93e47d-54cd-4e98-eb08-ee34a3a185e8"
      },
      "execution_count": 7,
      "outputs": [
        {
          "output_type": "stream",
          "name": "stdout",
          "text": [
            "First 5 rows of the dataset:\n",
            "   id   loc  v(g)  ev(g)  iv(g)     n       v     l      d      i  ...  \\\n",
            "0   1   1.1   1.4    1.4    1.4   1.3    1.30  1.30   1.30   1.30  ...   \n",
            "1   2   1.0   1.0    1.0    1.0   1.0    1.00  1.00   1.00   1.00  ...   \n",
            "2   3  24.0   5.0    1.0    3.0  63.0  309.13  0.11   9.50  32.54  ...   \n",
            "3   4  20.0   4.0    4.0    2.0  47.0  215.49  0.06  16.00  13.47  ...   \n",
            "4   5  24.0   6.0    6.0    2.0  72.0  346.13  0.06  17.33  19.97  ...   \n",
            "\n",
            "   lOCode  lOComment  lOBlank  locCodeAndComment  uniq_Op  uniq_Opnd  \\\n",
            "0       2          2        2                  2      1.2        1.2   \n",
            "1       1          1        1                  1      1.0        1.0   \n",
            "2       1          0        6                  0     15.0       15.0   \n",
            "3       0          0        3                  0     16.0        8.0   \n",
            "4       0          0        3                  0     16.0       12.0   \n",
            "\n",
            "   total_Op  total_Opnd  branchCount  defects  \n",
            "0       1.2         1.2          1.4    False  \n",
            "1       1.0         1.0          1.0     True  \n",
            "2      44.0        19.0          9.0    False  \n",
            "3      31.0        16.0          7.0    False  \n",
            "4      46.0        26.0         11.0    False  \n",
            "\n",
            "[5 rows x 23 columns]\n",
            "\n",
            "Dataset Information:\n",
            "<class 'pandas.core.frame.DataFrame'>\n",
            "RangeIndex: 498 entries, 0 to 497\n",
            "Data columns (total 23 columns):\n",
            " #   Column             Non-Null Count  Dtype  \n",
            "---  ------             --------------  -----  \n",
            " 0   id                 498 non-null    int64  \n",
            " 1   loc                498 non-null    float64\n",
            " 2   v(g)               498 non-null    float64\n",
            " 3   ev(g)              498 non-null    float64\n",
            " 4   iv(g)              498 non-null    float64\n",
            " 5   n                  498 non-null    float64\n",
            " 6   v                  498 non-null    float64\n",
            " 7   l                  498 non-null    float64\n",
            " 8   d                  498 non-null    float64\n",
            " 9   i                  498 non-null    float64\n",
            " 10  e                  498 non-null    float64\n",
            " 11  b                  498 non-null    float64\n",
            " 12  t                  498 non-null    float64\n",
            " 13  lOCode             498 non-null    int64  \n",
            " 14  lOComment          498 non-null    int64  \n",
            " 15  lOBlank            498 non-null    int64  \n",
            " 16  locCodeAndComment  498 non-null    int64  \n",
            " 17  uniq_Op            498 non-null    float64\n",
            " 18  uniq_Opnd          498 non-null    float64\n",
            " 19  total_Op           498 non-null    float64\n",
            " 20  total_Opnd         498 non-null    float64\n",
            " 21  branchCount        498 non-null    float64\n",
            " 22  defects            498 non-null    bool   \n",
            "dtypes: bool(1), float64(17), int64(5)\n",
            "memory usage: 86.2 KB\n",
            "\n",
            "Descriptive Statistics:\n",
            "               id         loc        v(g)       ev(g)       iv(g)  \\\n",
            "count  498.000000  498.000000  498.000000  498.000000  498.000000   \n",
            "mean   249.500000   29.644779    5.382329    2.490763    3.528916   \n",
            "std    143.904482   42.753572    8.347359    3.658847    5.464398   \n",
            "min      1.000000    1.000000    1.000000    1.000000    1.000000   \n",
            "25%    125.250000    8.000000    1.000000    1.000000    1.000000   \n",
            "50%    249.500000   17.000000    3.000000    1.000000    2.000000   \n",
            "75%    373.750000   31.000000    6.000000    1.000000    4.000000   \n",
            "max    498.000000  423.000000   96.000000   30.000000   63.000000   \n",
            "\n",
            "                 n             v           l           d           i  ...  \\\n",
            "count   498.000000    498.000000  498.000000  498.000000  498.000000  ...   \n",
            "mean    143.956426    900.175823    0.146325   15.829378   38.455361  ...   \n",
            "std     221.049888   1690.814334    0.159337   15.330960   36.996297  ...   \n",
            "min       1.000000      0.000000    0.000000    0.000000    0.000000  ...   \n",
            "25%      25.000000    102.190000    0.050000    5.630000   16.210000  ...   \n",
            "50%      67.500000    329.820000    0.090000   11.640000   27.400000  ...   \n",
            "75%     151.750000    861.460000    0.177500   21.142500   46.900000  ...   \n",
            "max    2075.000000  17124.280000    1.300000  125.770000  293.680000  ...   \n",
            "\n",
            "                   t      lOCode   lOComment     lOBlank  locCodeAndComment  \\\n",
            "count     498.000000  498.000000  498.000000  498.000000         498.000000   \n",
            "mean     1938.056124    3.787149   12.283133   11.534137           0.006024   \n",
            "std      7453.591519    8.508658   25.828605   19.981476           0.100120   \n",
            "min         0.000000    0.000000    0.000000    0.000000           0.000000   \n",
            "25%        33.672500    0.000000    0.000000    1.000000           0.000000   \n",
            "50%       204.310000    1.000000    4.000000    5.000000           0.000000   \n",
            "75%       924.075000    4.000000   14.000000   13.000000           0.000000   \n",
            "max    119649.480000   80.000000  339.000000  164.000000           2.000000   \n",
            "\n",
            "          uniq_Op   uniq_Opnd     total_Op  total_Opnd  branchCount  \n",
            "count  498.000000  498.000000   498.000000  498.000000   498.000000  \n",
            "mean    15.199197   25.452209    88.389960   55.570683     9.348193  \n",
            "std      9.617815   33.925816   134.917513   86.969527    15.072219  \n",
            "min      1.000000    0.000000     1.000000    0.000000     1.000000  \n",
            "25%      9.000000    7.000000    15.000000   10.000000     1.000000  \n",
            "50%     14.000000   15.000000    42.000000   26.000000     5.000000  \n",
            "75%     20.000000   30.000000    94.750000   59.750000    11.000000  \n",
            "max     72.000000  314.000000  1261.000000  814.000000   162.000000  \n",
            "\n",
            "[8 rows x 22 columns]\n",
            "\n",
            "'defects' column renamed to 'is_vulnerable' and converted to integer.\n",
            "\n",
            "Distribution of Vulnerable vs. Non-Vulnerable Modules:\n",
            "is_vulnerable\n",
            "0    449\n",
            "1     49\n",
            "Name: count, dtype: int64\n"
          ]
        },
        {
          "output_type": "display_data",
          "data": {
            "text/plain": [
              "<Figure size 800x600 with 1 Axes>"
            ],
            "image/png": "[encoded data removed]"
          },
          "metadata": {}
        },
        {
          "output_type": "stream",
          "name": "stdout",
          "text": [
            "\n",
            "EDA Conclusion: The dataset is highly imbalanced. Non-vulnerable modules vastly outnumber vulnerable ones.\n",
            "This is a critical insight that will influence how we build and evaluate our model.\n"
          ]
        }
      ]
    },
    {
      "cell_type": "code",
      "source": [
        "# Define our features (X) and target (y)\n",
        "X = data.drop('is_vulnerable', axis=1) # All columns except our target\n",
        "y = data['is_vulnerable']             # Only the target column\n",
        "\n",
        "# Split the data into training (80%) and testing (20%) sets\n",
        "# 'random_state=42' ensures that we get the same split every time we run the code, for reproducibility.\n",
        "# 'stratify=y' is important for imbalanced datasets. It ensures the train and test sets have a similar proportion of vulnerable modules.\n",
        "X_train, X_test, y_train, y_test = train_test_split(X, y, test_size=0.2, random_state=42, stratify=y)\n",
        "\n",
        "print(f\"Training set shape: {X_train.shape}\")\n",
        "print(f\"Testing set shape: {X_test.shape}\")\n",
        "print(f\"\\nProportion of vulnerable modules in training set:\\n{y_train.value_counts(normalize=True)}\")\n",
        "print(f\"\\nProportion of vulnerable modules in testing set:\\n{y_test.value_counts(normalize=True)}\")\n",
        "\n",
        "\n",
        "# Feature Scaling\n",
        "# Although Random Forest is less sensitive to feature scaling, it's good practice.\n",
        "# It ensures that features with large values (like lines of code) don't dominate features with small values.\n",
        "scaler = StandardScaler()\n",
        "X_train = scaler.fit_transform(X_train)\n",
        "X_test = scaler.transform(X_test)\n",
        "\n",
        "print(\"\\nData has been split and features have been scaled.\")"
      ],
      "metadata": {
        "colab": {
          "base_uri": "https://localhost:8080/"
        },
        "id": "DSiGGhqysKh6",
        "outputId": "0207b7bb-5885-4129-b1bf-2d49fb410919"
      },
      "execution_count": 8,
      "outputs": [
        {
          "output_type": "stream",
          "name": "stdout",
          "text": [
            "Training set shape: (398, 22)\n",
            "Testing set shape: (100, 22)\n",
            "\n",
            "Proportion of vulnerable modules in training set:\n",
            "is_vulnerable\n",
            "0    0.90201\n",
            "1    0.09799\n",
            "Name: proportion, dtype: float64\n",
            "\n",
            "Proportion of vulnerable modules in testing set:\n",
            "is_vulnerable\n",
            "0    0.9\n",
            "1    0.1\n",
            "Name: proportion, dtype: float64\n",
            "\n",
            "Data has been split and features have been scaled.\n"
          ]
        }
      ]
    },
    {
      "cell_type": "code",
      "source": [
        "# Create the Random Forest Classifier model\n",
        "# n_estimators=100 means it will build 100 decision trees.\n",
        "# class_weight='balanced' helps with the imbalanced dataset.\n",
        "# random_state=42 ensures the model's randomness is the same each time.\n",
        "model = RandomForestClassifier(n_estimators=100, class_weight='balanced', random_state=42)\n",
        "\n",
        "# Train the model using our training data\n",
        "print(\"Training the Random Forest model...\")\n",
        "model.fit(X_train, y_train)\n",
        "print(\"Model training complete!\")"
      ],
      "metadata": {
        "colab": {
          "base_uri": "https://localhost:8080/"
        },
        "id": "rx7fzOXAsOyY",
        "outputId": "363c4c27-b82c-4301-f727-5e5b761533e3"
      },
      "execution_count": 9,
      "outputs": [
        {
          "output_type": "stream",
          "name": "stdout",
          "text": [
            "Training the Random Forest model...\n",
            "Model training complete!\n"
          ]
        }
      ]
    },
    {
      "cell_type": "code",
      "source": [
        "# Make predictions on the test data\n",
        "y_pred = model.predict(X_test)\n",
        "\n",
        "# Print the classification report\n",
        "# This shows precision, recall, and f1-score for each class.\n",
        "print(\"\\nClassification Report:\")\n",
        "print(classification_report(y_test, y_pred))\n",
        "\n",
        "# Display the confusion matrix\n",
        "print(\"\\nConfusion Matrix:\")\n",
        "cm = confusion_matrix(y_test, y_pred)\n",
        "print(cm)\n",
        "\n",
        "# Visualize the confusion matrix with a heatmap\n",
        "plt.figure(figsize=(8, 6))\n",
        "sns.heatmap(cm, annot=True, fmt='d', cmap='Blues', xticklabels=['Non-Vulnerable', 'Vulnerable'], yticklabels=['Non-Vulnerable', 'Vulnerable'])\n",
        "plt.title('Confusion Matrix')\n",
        "plt.ylabel('Actual Label')\n",
        "plt.xlabel('Predicted Label')\n",
        "plt.show()\n",
        "\n",
        "print(\"\\nEvaluation Interpretation:\")\n",
        "print(f\"True Negatives (TN): {cm[0][0]} - Correctly predicted non-vulnerable.\")\n",
        "print(f\"False Positives (FP): {cm[0][1]} - Incorrectly predicted vulnerable (False Alarm).\")\n",
        "print(f\"False Negatives (FN): {cm[1][0]} - Incorrectly predicted non-vulnerable (Critical Miss!).\")\n",
        "print(f\"True Positives (TP): {cm[1][1]} - Correctly predicted vulnerable.\")"
      ],
      "metadata": {
        "colab": {
          "base_uri": "https://localhost:8080/",
          "height": 938
        },
        "id": "T-h8b67QsTi0",
        "outputId": "a1e2b51d-782e-4e18-88cb-b8bd8ceaf011"
      },
      "execution_count": 10,
      "outputs": [
        {
          "output_type": "stream",
          "name": "stdout",
          "text": [
            "\n",
            "Classification Report:\n",
            "              precision    recall  f1-score   support\n",
            "\n",
            "           0       0.96      1.00      0.98        90\n",
            "           1       1.00      0.60      0.75        10\n",
            "\n",
            "    accuracy                           0.96       100\n",
            "   macro avg       0.98      0.80      0.86       100\n",
            "weighted avg       0.96      0.96      0.96       100\n",
            "\n",
            "\n",
            "Confusion Matrix:\n",
            "[[90  0]\n",
            " [ 4  6]]\n"
          ]
        },
        {
          "output_type": "display_data",
          "data": {
            "text/plain": [
              "<Figure size 800x600 with 2 Axes>"
            ],
            "image/png": "[encoded data removed]"
          },
          "metadata": {}
        },
        {
          "output_type": "stream",
          "name": "stdout",
          "text": [
            "\n",
            "Evaluation Interpretation:\n",
            "True Negatives (TN): 90 - Correctly predicted non-vulnerable.\n",
            "False Positives (FP): 0 - Incorrectly predicted vulnerable (False Alarm).\n",
            "False Negatives (FN): 4 - Incorrectly predicted non-vulnerable (Critical Miss!).\n",
            "True Positives (TP): 6 - Correctly predicted vulnerable.\n"
          ]
        }
      ]
    },
    {
      "cell_type": "code",
      "source": [
        "# Get feature importances from the trained model\n",
        "importances = model.feature_importances_\n",
        "feature_names = X.columns\n",
        "\n",
        "# Create a DataFrame for better visualization\n",
        "feature_importance_df = pd.DataFrame({'feature': feature_names, 'importance': importances})\n",
        "\n",
        "# Sort the features by importance in descending order\n",
        "feature_importance_df = feature_importance_df.sort_values(by='importance', ascending=False)\n",
        "\n",
        "# Plot the feature importances\n",
        "plt.figure(figsize=(12, 8))\n",
        "sns.barplot(x='importance', y='feature', data=feature_importance_df)\n",
        "plt.title('Feature Importance in Predicting Software Vulnerabilities')\n",
        "plt.xlabel('Importance Score')\n",
        "plt.ylabel('Features')\n",
        "plt.tight_layout()\n",
        "plt.show()\n",
        "\n",
        "print(\"\\nTop 5 Most Important Features:\")\n",
        "print(feature_importance_df.head())"
      ],
      "metadata": {
        "colab": {
          "base_uri": "https://localhost:8080/",
          "height": 940
        },
        "id": "8pVeZuMcsatL",
        "outputId": "f27861e2-b8d4-4dd0-fd7e-e830a894ee3a"
      },
      "execution_count": 11,
      "outputs": [
        {
          "output_type": "display_data",
          "data": {
            "text/plain": [
              "<Figure size 1200x800 with 1 Axes>"
            ],
            "image/png": "[encoded data removed]"
          },
          "metadata": {}
        },
        {
          "output_type": "stream",
          "name": "stdout",
          "text": [
            "\n",
            "Top 5 Most Important Features:\n",
            "      feature  importance\n",
            "0          id    0.450061\n",
            "14  lOComment    0.062555\n",
            "1         loc    0.054280\n",
            "11          b    0.047814\n",
            "9           i    0.043821\n"
          ]
        }
      ]
    },
    {
      "cell_type": "code",
      "source": [
        "import joblib\n",
        "\n",
        "# Save the trained model to a file\n",
        "joblib.dump(model, 'vulnerability_model.joblib')\n",
        "\n",
        "# CRUCIAL: Save the scaler object as well.\n",
        "# New data MUST be scaled in the exact same way as the training data.\n",
        "joblib.dump(scaler, 'scaler.joblib')\n",
        "\n",
        "print(\"Model and Scaler have been saved to files!\")\n",
        "print(\"You can find 'vulnerability_model.joblib' and 'scaler.joblib' in your Colab files.\")"
      ],
      "metadata": {
        "colab": {
          "base_uri": "https://localhost:8080/"
        },
        "id": "hdG5TMmstilx",
        "outputId": "bb68361a-dafa-4a33-9c94-84aa7d92b795"
      },
      "execution_count": 12,
      "outputs": [
        {
          "output_type": "stream",
          "name": "stdout",
          "text": [
            "Model and Scaler have been saved to files!\n",
            "You can find 'vulnerability_model.joblib' and 'scaler.joblib' in your Colab files.\n"
          ]
        }
      ]
    },
    {
      "cell_type": "code",
      "source": [
        "!pip install radon"
      ],
      "metadata": {
        "colab": {
          "base_uri": "https://localhost:8080/"
        },
        "id": "A-tFsaxiu-2o",
        "outputId": "05cc0399-8d86-44c3-bc11-2faeaba79fad"
      },
      "execution_count": 13,
      "outputs": [
        {
          "output_type": "stream",
          "name": "stdout",
          "text": [
            "Collecting radon\n",
            "  Downloading radon-6.0.1-py2.py3-none-any.whl.metadata (8.2 kB)\n",
            "Collecting mando<0.8,>=0.6 (from radon)\n",
            "  Downloading mando-0.7.1-py2.py3-none-any.whl.metadata (7.4 kB)\n",
            "Collecting colorama>=0.4.1 (from radon)\n",
            "  Downloading colorama-0.4.6-py2.py3-none-any.whl.metadata (17 kB)\n",
            "Requirement already satisfied: six in /usr/local/lib/python3.12/dist-packages (from mando<0.8,>=0.6->radon) (1.17.0)\n",
            "Downloading radon-6.0.1-py2.py3-none-any.whl (52 kB)\n",
            "\u001b[2K   \u001b[90m━━━━━━━━━━━━━━━━━━━━━━━━━━━━━━━━━━━━━━━━\u001b[0m \u001b[32m52.8/52.8 kB\u001b[0m \u001b[31m4.0 MB/s\u001b[0m eta \u001b[36m0:00:00\u001b[0m\n",
            "\u001b[?25hDownloading colorama-0.4.6-py2.py3-none-any.whl (25 kB)\n",
            "Downloading mando-0.7.1-py2.py3-none-any.whl (28 kB)\n",
            "Installing collected packages: mando, colorama, radon\n",
            "Successfully installed colorama-0.4.6 mando-0.7.1 radon-6.0.1\n"
          ]
        }
      ]
    },
    {
      "cell_type": "code",
      "source": [
        "from radon.visitors import ComplexityVisitor\n",
        "from radon.metrics import h_visit\n",
        "from radon.raw import analyze\n",
        "\n",
        "# Let's imagine we have a Python file named 'my_test_code.py'\n",
        "# We will create it here for demonstration\n",
        "sample_code = \"\"\"\n",
        "def complex_function(a, b, c):\n",
        "    if a > b:\n",
        "        if b > c:\n",
        "            return 1\n",
        "        else:\n",
        "            return 2\n",
        "    elif b > a and c > b:\n",
        "        return 3\n",
        "    else:\n",
        "        for i in range(a):\n",
        "            print(i)\n",
        "        return 4\n",
        "\"\"\"\n",
        "\n",
        "with open(\"my_test_code.py\", \"w\") as f:\n",
        "    f.write(sample_code)\n",
        "\n",
        "# Now, let's analyze this file with radon\n",
        "with open(\"my_test_code.py\", \"r\") as f:\n",
        "    code_content = f.read()\n",
        "\n",
        "# 1. Get Cyclomatic Complexity\n",
        "v = ComplexityVisitor.from_code(code_content)\n",
        "cyclomatic_complexity = v.functions[0].complexity # Gets complexity of the first function\n",
        "\n",
        "# 2. Get Lines of Code metrics\n",
        "raw_analysis = analyze(code_content)\n",
        "lines_of_code = raw_analysis.loc\n",
        "logical_lines_of_code = raw_analysis.lloc\n",
        "comments = raw_analysis.comments\n",
        "\n",
        "print(f\"Cyclomatic Complexity (v(g)): {cyclomatic_complexity}\")\n",
        "print(f\"Lines of Code (loc): {lines_of_code}\")\n",
        "print(f\"Logical Lines of Code (lloc): {logical_lines_of_code}\")"
      ],
      "metadata": {
        "colab": {
          "base_uri": "https://localhost:8080/"
        },
        "id": "ONNEPYTjvMtK",
        "outputId": "d6172fb4-4567-4a8a-8f19-5286224ee143"
      },
      "execution_count": 14,
      "outputs": [
        {
          "output_type": "stream",
          "name": "stdout",
          "text": [
            "Cyclomatic Complexity (v(g)): 6\n",
            "Lines of Code (loc): 13\n",
            "Logical Lines of Code (lloc): 12\n"
          ]
        }
      ]
    },
    {
      "cell_type": "code",
      "source": [
        "import pandas as pd\n",
        "import joblib\n",
        "from radon.visitors import ComplexityVisitor\n",
        "from radon.metrics import h_visit\n",
        "from radon.raw import analyze\n",
        "\n",
        "# --- The CORRECTED Prediction Function ---\n",
        "\n",
        "def predict_vulnerability(file_path):\n",
        "    \"\"\"\n",
        "    Analyzes a single Python code file and predicts if it's vulnerable.\n",
        "    \"\"\"\n",
        "    print(f\"--- Analyzing file: {file_path} ---\")\n",
        "\n",
        "    # Step A: Load our pre-trained model and scaler\n",
        "    try:\n",
        "        model = joblib.load('vulnerability_model.joblib')\n",
        "        scaler = joblib.load('scaler.joblib')\n",
        "    except FileNotFoundError:\n",
        "        return \"Error: Model or scaler files not found. Please run the training script first.\"\n",
        "\n",
        "    # Step B: Read and analyze the new code file\n",
        "    try:\n",
        "        with open(file_path, \"r\") as f:\n",
        "            code = f.read()\n",
        "    except FileNotFoundError:\n",
        "        return f\"Error: The file '{file_path}' was not found.\"\n",
        "\n",
        "    # Step C: Extract metrics using radon\n",
        "    try:\n",
        "        v = ComplexityVisitor.from_code(code)\n",
        "        avg_complexity = sum(f.complexity for f in v.functions) / len(v.functions) if v.functions else 0\n",
        "        raw = analyze(code)\n",
        "        halstead = h_visit(code).total\n",
        "    except Exception as e:\n",
        "        return f\"Error analyzing code: {e}\"\n",
        "\n",
        "    # Step D: Create a feature vector that EXACTLY MATCHES the training data\n",
        "\n",
        "    # --- THIS IS THE CORRECTED PART ---\n",
        "    # The list now matches the columns your model was trained on.\n",
        "    feature_columns = [\n",
        "        'id', 'loc', 'v(g)', 'ev(g)', 'iv(g)', 'n', 'v', 'l', 'd', 'i', 'e',\n",
        "        'b', 't', 'lOCode', 'lOComment', 'lOBlank', 'locCodeAndComment',\n",
        "        'uniq_Op', 'uniq_Opnd', 'total_Op', 'total_Opnd', 'branchCount'\n",
        "    ]\n",
        "\n",
        "    # Create a dictionary to hold our new features, initialized to zero\n",
        "    new_features = {col: 0 for col in feature_columns}\n",
        "\n",
        "    # Fill in the values we were able to calculate\n",
        "    new_features['loc'] = raw.loc\n",
        "    new_features['v(g)'] = avg_complexity\n",
        "    new_features['lOCode'] = raw.lloc\n",
        "    new_features['lOComment'] = raw.comments\n",
        "    new_features['lOBlank'] = raw.blank\n",
        "    new_features['uniq_Op'] = halstead.h1\n",
        "    new_features['uniq_Opnd'] = halstead.h2\n",
        "    new_features['total_Op'] = halstead.N1\n",
        "    new_features['total_Opnd'] = halstead.N2\n",
        "    new_features['branchCount'] = avg_complexity\n",
        "    # The other features like 'id', 'ev(g)', 'iv(g)', etc., will remain 0, which is a safe default.\n",
        "\n",
        "    # Convert the dictionary to a pandas DataFrame\n",
        "    new_data_df = pd.DataFrame([new_features], columns=feature_columns)\n",
        "\n",
        "    print(\"\\nExtracted Metrics (Corrected Columns):\")\n",
        "    print(new_data_df)\n",
        "\n",
        "    # Step E: Scale the new data using the SAME scaler\n",
        "    scaled_new_data = scaler.transform(new_data_df)\n",
        "\n",
        "    # Step F: Make the prediction\n",
        "    prediction = model.predict(scaled_new_data)\n",
        "    prediction_proba = model.predict_proba(scaled_new_data)\n",
        "\n",
        "    # Step G: Return a human-readable result\n",
        "    if prediction[0] == 1:\n",
        "        return f\"\\n---> Prediction: VULNERABLE (Confidence: {prediction_proba[0][1]*100:.2f}%)\"\n",
        "    else:\n",
        "        return f\"\\n---> Prediction: NOT VULNERABLE (Confidence: {prediction_proba[0][0]*100:.2f}%)\""
      ],
      "metadata": {
        "id": "VcBomHxOvbHq"
      },
      "execution_count": 20,
      "outputs": []
    },
    {
      "cell_type": "code",
      "source": [
        "safe_code_content = \"\"\"\n",
        "def add(x, y):\n",
        "    \\\"\\\"\\\"A simple function to add two numbers.\\\"\\\"\\\"\n",
        "    return x + y\n",
        "\n",
        "result = add(5, 10)\n",
        "\"\"\"\n",
        "with open(\"safe_code.py\", \"w\") as f:\n",
        "    f.write(safe_code_content)"
      ],
      "metadata": {
        "id": "4oxxNKHkvgMg"
      },
      "execution_count": 16,
      "outputs": []
    },
    {
      "cell_type": "code",
      "source": [
        "# Create a new, \"hyper-risky\" code file to test the model's limits.\n",
        "hyper_risky_code_content = \"\"\"\n",
        "def process_data_in_extreme_detail(data, user_type, config, mode, threshold):\n",
        "    # This function is intentionally hyper-complex to trigger the model.\n",
        "    # Its only purpose is to get a high complexity score.\n",
        "\n",
        "    count = 0\n",
        "    if user_type == 'ADMIN' and mode != 'safe':\n",
        "        # Deeply nested logic to inflate v(g)\n",
        "        for i in range(len(data)):\n",
        "            try:\n",
        "                if (data[i] > threshold and i % 2 == 0) or (data[i] < -threshold and i % 3 == 0):\n",
        "                    if config['level'] > 5 and config['active'] is True:\n",
        "                        count += (data[i] * 2) // 3\n",
        "                    elif config['level'] > 2:\n",
        "                        count -= data[i]\n",
        "                    else:\n",
        "                        pass\n",
        "                elif data[i] == 0:\n",
        "                    count = 0\n",
        "                else:\n",
        "                    count -= 1\n",
        "            except IndexError:\n",
        "                print(\"An error occurred\")\n",
        "                return None\n",
        "    elif user_type == 'GUEST':\n",
        "        while count < 100:\n",
        "            count += 1\n",
        "            if count == 50:\n",
        "                break\n",
        "    else:\n",
        "        # Using a wide variety of operators\n",
        "        temp = (threshold + 100) / 2 * 5 - 1\n",
        "        is_valid = (temp is not None) and (temp > 0)\n",
        "        if not is_valid:\n",
        "            return -1\n",
        "\n",
        "    final_result = count ** 2\n",
        "    return final_result\n",
        "\"\"\"\n",
        "\n",
        "with open(\"hyper_risky_code.py\", \"w\") as f:\n",
        "    f.write(hyper_risky_code_content)\n",
        "\n",
        "print(\"File 'hyper_risky_code.py' has been created.\")"
      ],
      "metadata": {
        "colab": {
          "base_uri": "https://localhost:8080/"
        },
        "id": "E1gPq9gqvlKB",
        "outputId": "8aa3d8ff-356c-4b01-908d-b170025ca721"
      },
      "execution_count": 22,
      "outputs": [
        {
          "output_type": "stream",
          "name": "stdout",
          "text": [
            "File 'hyper_risky_code.py' has been created.\n"
          ]
        }
      ]
    },
    {
      "cell_type": "code",
      "source": [
        "result_safe = predict_vulnerability('safe_code.py')\n",
        "print(result_safe)\n",
        "\n",
        "print(\"\\n\" + \"=\"*50 + \"\\n\")\n",
        "\n",
        "result_risky = predict_vulnerability('risky_code.py')\n",
        "print(result_risky)"
      ],
      "metadata": {
        "colab": {
          "base_uri": "https://localhost:8080/"
        },
        "id": "yvXSK3hNvoXo",
        "outputId": "1796af5d-74ea-4479-9e1e-25a9c46ee64d"
      },
      "execution_count": 21,
      "outputs": [
        {
          "output_type": "stream",
          "name": "stdout",
          "text": [
            "--- Analyzing file: safe_code.py ---\n",
            "\n",
            "Extracted Metrics (Corrected Columns):\n",
            "   id  loc  v(g)  ev(g)  iv(g)  n  v  l  d  i  ...  t  lOCode  lOComment  \\\n",
            "0   0    6   1.0      0      0  0  0  0  0  0  ...  0       4          0   \n",
            "\n",
            "   lOBlank  locCodeAndComment  uniq_Op  uniq_Opnd  total_Op  total_Opnd  \\\n",
            "0        2                  0        1          2         1           2   \n",
            "\n",
            "   branchCount  \n",
            "0          1.0  \n",
            "\n",
            "[1 rows x 22 columns]\n",
            "\n",
            "---> Prediction: NOT VULNERABLE (Confidence: 93.00%)\n",
            "\n",
            "==================================================\n",
            "\n",
            "--- Analyzing file: risky_code.py ---\n",
            "\n",
            "Extracted Metrics (Corrected Columns):\n",
            "   id  loc  v(g)  ev(g)  iv(g)  n  v  l  d  i  ...  t  lOCode  lOComment  \\\n",
            "0   0   20   9.0      0      0  0  0  0  0  0  ...  0      18          1   \n",
            "\n",
            "   lOBlank  locCodeAndComment  uniq_Op  uniq_Opnd  total_Op  total_Opnd  \\\n",
            "0        1                  0        5         17         9          18   \n",
            "\n",
            "   branchCount  \n",
            "0          9.0  \n",
            "\n",
            "[1 rows x 22 columns]\n",
            "\n",
            "---> Prediction: NOT VULNERABLE (Confidence: 89.00%)\n"
          ]
        }
      ]
    },
    {
      "cell_type": "code",
      "source": [
        "# Test the new, hyper-risky code\n",
        "result_hyper_risky = predict_vulnerability('hyper_risky_code.py')\n",
        "print(result_hyper_risky)"
      ],
      "metadata": {
        "colab": {
          "base_uri": "https://localhost:8080/"
        },
        "id": "ilxEOxwtyYic",
        "outputId": "691acd92-b55d-4d57-ea09-fde3dc536f07"
      },
      "execution_count": 27,
      "outputs": [
        {
          "output_type": "stream",
          "name": "stdout",
          "text": [
            "--- Analyzing file: hyper_risky_code.py ---\n",
            "\n",
            "Extracted Metrics (Corrected Columns):\n",
            "   id  loc  v(g)  ev(g)  iv(g)  n  v  l  d  i  ...  t  lOCode  lOComment  \\\n",
            "0   0   38  18.0      0      0  0  0  0  0  0  ...  0      31          4   \n",
            "\n",
            "   lOBlank  locCodeAndComment  uniq_Op  uniq_Opnd  total_Op  total_Opnd  \\\n",
            "0        3                  0       17         46        37          71   \n",
            "\n",
            "   branchCount  \n",
            "0         18.0  \n",
            "\n",
            "[1 rows x 22 columns]\n",
            "\n",
            "---> Prediction: NOT VULNERABLE (Confidence: 88.00%)\n"
          ]
        }
      ]
    }
  ]
}